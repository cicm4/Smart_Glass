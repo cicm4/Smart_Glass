{
 "cells": [
  {
   "cell_type": "code",
   "execution_count": 2,
   "id": "43764757",
   "metadata": {},
   "outputs": [
    {
     "name": "stdout",
     "output_type": "stream",
     "text": [
      "error\n"
     ]
    }
   ],
   "source": [
    "import torch\n",
    "import numpy as np\n",
    "\n",
    "# Create a tensor first\n",
    "tensor = torch.randn(3, 4)  # Example tensor with random values\n",
    "\n",
    "if torch.cuda.is_available():\n",
    "  tensor = tensor.to('cuda')\n",
    "  print(f\"Device tensor is stored on: {tensor.device}\")\n",
    "else:\n",
    "  print(\"error\")"
   ]
  },
  {
   "cell_type": "code",
   "execution_count": 3,
   "id": "cfc2f80d",
   "metadata": {},
   "outputs": [
    {
     "name": "stdout",
     "output_type": "stream",
     "text": [
      "Downloading: \"https://download.pytorch.org/models/resnet18-f37072fd.pth\" to C:\\Users\\camil/.cache\\torch\\hub\\checkpoints\\resnet18-f37072fd.pth\n"
     ]
    },
    {
     "name": "stderr",
     "output_type": "stream",
     "text": [
      "100%|██████████| 44.7M/44.7M [00:03<00:00, 13.7MB/s]\n"
     ]
    }
   ],
   "source": [
    "from torchvision.models import resnet18, ResNet18_Weights\n",
    "model = resnet18(weights=ResNet18_Weights.DEFAULT)\n",
    "data = torch.rand(1, 3, 64, 64)\n",
    "labels = torch.rand(1, 1000)"
   ]
  },
  {
   "cell_type": "code",
   "execution_count": null,
   "id": "dcff57e0",
   "metadata": {},
   "outputs": [
    {
     "name": "stdout",
     "output_type": "stream",
     "text": [
      "tensor(-5070.8271, grad_fn=<SumBackward0>)\n",
      "tensor(-5070.8271, grad_fn=<SumBackward0>)\n"
     ]
    }
   ],
   "source": [
    "prediction = model(data) # forward pass\n",
    "\n",
    "loss_initial = (prediction - labels).sum()\n",
    "loss_initial.backward() # backward pass\n",
    "\n",
    "optim = torch.optim.SGD(model.parameters(), lr=1e-2, momentum=0.9)\n",
    "\n",
    "optim.step() #gradient descent"
   ]
  },
  {
   "cell_type": "code",
   "execution_count": 1,
   "id": "32606c28",
   "metadata": {},
   "outputs": [],
   "source": [
    "import torch.nn as nn\n",
    "import torch.nn.functional as F\n",
    "\n",
    "class Net(nn.Module):\n",
    "  def __init__(self):\n",
    "    super(Net, self).__init()\n",
    "\n",
    "    self.conv1 = nn.Conv2d(1, 6, 5)\n",
    "    self.conv2 = nn.Conv2d(6, 16, 5)\n",
    "\n",
    "    self.fc1 = nn.Linear(16*5*5, 120 )\n",
    "    self.fc2 = nn.Linear(120, 84)\n",
    "    self.fc3 = nn.Linear(84, 10)\n",
    "  \n",
    "  def forward(self, input):\n",
    "    c1 = F.relu(self.conv1)\n",
    "    s2 = F.max_pool2d(c1, (2,2))\n",
    "    c3 = F.relu(self.conv2(s2))\n",
    "    s4 = F.max_pool2d(c3, 2)\n",
    "    # Flatten operation: purely functional, outputs a (N, 400) Tensor\n",
    "    s4 = torch.flatten(s4, 1)\n",
    "    # Fully connected layer F5: (N, 400) Tensor input,\n",
    "    # and outputs a (N, 120) Tensor, it uses RELU activation function\n",
    "    f5 = F.relu(self.fc1(s4))\n",
    "    # Fully connected layer F6: (N, 120) Tensor input,\n",
    "    # and outputs a (N, 84) Tensor, it uses RELU activation function\n",
    "    f6 = F.relu(self.fc2(f5))\n",
    "    # Gaussian layer OUTPUT: (N, 84) Tensor input, and\n",
    "    # outputs a (N, 10) Tensor\n",
    "    output = self.fc3(f6)\n",
    "    return output\n"
   ]
  },
  {
   "cell_type": "code",
   "execution_count": 1,
   "id": "bb6ad342",
   "metadata": {},
   "outputs": [],
   "source": [
    "import torch\n",
    "from torch.utils.data import Dataset\n",
    "import pandas as pd\n",
    "\n",
    "class BlinkDataset(Dataset):\n",
    "    def __init__(self, csv_file):\n",
    "        df = pd.read_csv(csv_file)\n",
    "        # Drop rows with missing values (optional)\n",
    "        df = df.dropna()\n",
    "        # Features: ratio, ratio_avg, distance_vertical, distance_horizontal\n",
    "        self.X = df[['ratio', 'ratio_avg', 'distance_vertical', 'distance_horizontal']].values.astype('float32')\n",
    "        # Labels: manual_blink (0 or 1)\n",
    "        self.y = df['manual_blink'].values.astype('int64')\n",
    "    def __len__(self):\n",
    "        return len(self.y)\n",
    "    def __getitem__(self, idx):\n",
    "        return torch.tensor(self.X[idx]), torch.tensor(self.y[idx])"
   ]
  },
  {
   "cell_type": "code",
   "execution_count": 2,
   "id": "961a3457",
   "metadata": {},
   "outputs": [],
   "source": [
    "import torch.nn as nn\n",
    "\n",
    "class BlinkNet(nn.Module):\n",
    "    def __init__(self):\n",
    "        super().__init__()\n",
    "        self.net = nn.Sequential(\n",
    "            nn.Linear(4, 16),\n",
    "            nn.ReLU(),\n",
    "            nn.Linear(16, 8),\n",
    "            nn.ReLU(),\n",
    "            nn.Linear(8, 2)  # 2 outputs: blink or not blink\n",
    "        )\n",
    "    def forward(self, x):\n",
    "        return self.net(x)"
   ]
  }
 ],
 "metadata": {
  "kernelspec": {
   "display_name": "Python 3",
   "language": "python",
   "name": "python3"
  },
  "language_info": {
   "codemirror_mode": {
    "name": "ipython",
    "version": 3
   },
   "file_extension": ".py",
   "mimetype": "text/x-python",
   "name": "python",
   "nbconvert_exporter": "python",
   "pygments_lexer": "ipython3",
   "version": "3.11.9"
  }
 },
 "nbformat": 4,
 "nbformat_minor": 5
}
