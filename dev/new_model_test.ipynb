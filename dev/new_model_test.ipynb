{
 "cells": [
  {
   "cell_type": "code",
   "execution_count": 3,
   "id": "baae592f",
   "metadata": {},
   "outputs": [],
   "source": [
    "import torch\n",
    "from torch.utils.data import Dataset\n",
    "import pandas as pd\n",
    "import numpy as np\n",
    "\n",
    "class BlinkSequenceDataset(Dataset):\n",
    "    def __init__(self, csv_file, seq_len=20):\n",
    "        df = pd.read_csv(csv_file).dropna()\n",
    "        self.seq_len = seq_len\n",
    "        features = ['ratio', 'ratio_avg', 'distance_vertical', 'distance_horizontal']\n",
    "        self.X = df[features].values.astype('float32')\n",
    "        self.y = df['manual_blink'].values.astype('int64')\n",
    "    def __len__(self):\n",
    "        return len(self.y) - self.seq_len + 1\n",
    "    def __getitem__(self, idx):\n",
    "        x_seq = self.X[idx:idx+self.seq_len]\n",
    "        y_seq = self.y[idx+self.seq_len-1]  # Predict for the last row in the sequence\n",
    "        return torch.tensor(x_seq), torch.tensor(y_seq)"
   ]
  },
  {
   "cell_type": "code",
   "execution_count": 14,
   "id": "c1936d4e",
   "metadata": {},
   "outputs": [],
   "source": [
    "import torch.nn as nn\n",
    "\n",
    "class BlinkLSTMNet(nn.Module):\n",
    "    def __init__(self, input_size=4, hidden_size=96, num_layers=5, num_classes=2):\n",
    "        super().__init__()\n",
    "        self.lstm = nn.LSTM(input_size, hidden_size, num_layers, batch_first=True)\n",
    "\n",
    "        self.fc = nn.Linear(hidden_size, num_classes)\n",
    "        \n",
    "    def forward(self, x):\n",
    "        # x: (batch, seq_len, input_size)\n",
    "        out, _ = self.lstm(x)\n",
    "        out = out[:, -1, :]  # Take output from last time step\n",
    "        out = self.fc(out)\n",
    "        return out"
   ]
  },
  {
   "cell_type": "code",
   "execution_count": 15,
   "id": "7ca5f55e",
   "metadata": {},
   "outputs": [
    {
     "name": "stdout",
     "output_type": "stream",
     "text": [
      "Epoch 1, Loss: 0.5207\n",
      "Epoch 2, Loss: 0.3939\n",
      "Epoch 3, Loss: 0.3822\n",
      "Epoch 4, Loss: 0.3714\n",
      "Epoch 5, Loss: 0.3675\n",
      "Epoch 6, Loss: 0.3601\n",
      "Epoch 7, Loss: 0.3360\n",
      "Epoch 8, Loss: 0.3286\n",
      "Epoch 9, Loss: 0.3535\n",
      "Epoch 10, Loss: 0.3295\n",
      "Epoch 11, Loss: 0.3334\n",
      "Epoch 12, Loss: 0.3400\n",
      "Epoch 13, Loss: 0.3050\n",
      "Epoch 14, Loss: 0.3013\n",
      "Epoch 15, Loss: 0.3333\n",
      "Epoch 16, Loss: 0.2919\n",
      "Epoch 17, Loss: 0.2831\n",
      "Epoch 18, Loss: 0.3300\n",
      "Epoch 19, Loss: 0.3448\n",
      "Epoch 20, Loss: 0.2947\n",
      "Epoch 21, Loss: 0.2769\n",
      "Epoch 22, Loss: 0.2934\n",
      "Epoch 23, Loss: 0.2686\n",
      "Epoch 24, Loss: 0.2750\n",
      "Epoch 25, Loss: 0.2769\n",
      "Epoch 26, Loss: 0.2688\n",
      "Epoch 27, Loss: 0.2708\n",
      "Epoch 28, Loss: 0.2607\n",
      "Epoch 29, Loss: 0.2553\n",
      "Epoch 30, Loss: 0.2894\n"
     ]
    }
   ],
   "source": [
    "import torch\n",
    "from torch.utils.data import DataLoader\n",
    "import torch.nn.functional as F\n",
    "\n",
    "dataset = BlinkSequenceDataset('blink_data_20250528_174203.csv', seq_len=20)\n",
    "dataloader = DataLoader(dataset, batch_size=32, shuffle=True)\n",
    "\n",
    "model = BlinkLSTMNet()\n",
    "optimizer = torch.optim.Adam(model.parameters(), lr=1e-3)\n",
    "criterion = torch.nn.CrossEntropyLoss()\n",
    "\n",
    "for epoch in range(30):\n",
    "    total_loss = 0\n",
    "    for X, y in dataloader:\n",
    "        optimizer.zero_grad()\n",
    "        logits = model(X)\n",
    "        loss = criterion(logits, y)\n",
    "        loss.backward()\n",
    "        optimizer.step()\n",
    "        total_loss += loss.item()\n",
    "    print(f\"Epoch {epoch+1}, Loss: {total_loss/len(dataloader):.4f}\")\n",
    "\n",
    "torch.save(model.state_dict(), \"blink_lstm_model.pth\")"
   ]
  },
  {
   "cell_type": "code",
   "execution_count": 5,
   "id": "69049b7a",
   "metadata": {},
   "outputs": [
    {
     "name": "stdout",
     "output_type": "stream",
     "text": [
      "Not Blink\n"
     ]
    }
   ],
   "source": [
    "import torch\n",
    "import numpy as np\n",
    "\n",
    "model = BlinkLSTMNet()\n",
    "model.load_state_dict(torch.load(\"blink_lstm_model.pth\"))\n",
    "model.eval()\n",
    "\n",
    "# x_seq: shape (1, 20, 4)\n",
    "x_seq = np.random.rand(1, 20, 4).astype('float32')  # Replace with your actual last 20 rows\n",
    "x_seq = torch.tensor(x_seq)\n",
    "with torch.no_grad():\n",
    "    logits = model(x_seq)\n",
    "    pred = torch.argmax(logits, dim=1)\n",
    "    print(\"Blink\" if pred.item() == 1 else \"Not Blink\")"
   ]
  },
  {
   "cell_type": "code",
   "execution_count": 5,
   "id": "d50de64a",
   "metadata": {},
   "outputs": [],
   "source": [
    "import torch.nn as nn\n",
    "\n",
    "class BlinkLSTMNet(nn.Module):\n",
    "    def __init__(self, input_size=4, hidden_size=32, num_layers=1, num_classes=2):\n",
    "        super().__init__()\n",
    "        self.lstm = nn.LSTM(input_size, hidden_size, num_layers, batch_first=True)\n",
    "        self.fc = nn.Linear(hidden_size, num_classes)\n",
    "    def forward(self, x):\n",
    "        out, _ = self.lstm(x)\n",
    "        out = out[:, -1, :]\n",
    "        out = self.fc(out)\n",
    "        return out"
   ]
  }
 ],
 "metadata": {
  "kernelspec": {
   "display_name": "Python 3",
   "language": "python",
   "name": "python3"
  },
  "language_info": {
   "codemirror_mode": {
    "name": "ipython",
    "version": 3
   },
   "file_extension": ".py",
   "mimetype": "text/x-python",
   "name": "python",
   "nbconvert_exporter": "python",
   "pygments_lexer": "ipython3",
   "version": "3.11.9"
  }
 },
 "nbformat": 4,
 "nbformat_minor": 5
}
