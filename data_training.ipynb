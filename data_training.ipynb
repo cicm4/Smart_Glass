{
 "cells": [
  {
   "cell_type": "code",
   "execution_count": 1,
   "id": "9d20a2ad",
   "metadata": {},
   "outputs": [],
   "source": [
    "import numpy as np\n",
    "import pandas as pd\n",
    "import cv2 as cv\n",
    "import torch\n",
    "from torch import nn\n",
    "from torch.utils.data import DataLoader\n",
    "from torchvision import datasets\n",
    "from torchvision.transforms import ToTensor"
   ]
  },
  {
   "cell_type": "code",
   "execution_count": 2,
   "id": "6398623d",
   "metadata": {},
   "outputs": [],
   "source": [
    "# Download training data from open datasets.\n",
    "training_data = datasets.FashionMNIST(\n",
    "    root=\"data\",\n",
    "    train=True,\n",
    "    download=True,\n",
    "    transform=ToTensor(),\n",
    ")\n",
    "\n",
    "# Download test data from open datasets.\n",
    "test_data = datasets.FashionMNIST(\n",
    "    root=\"data\",\n",
    "    train=False,\n",
    "    download=True,\n",
    "    transform=ToTensor(),\n",
    ")"
   ]
  },
  {
   "cell_type": "code",
   "execution_count": 3,
   "id": "a7dceb92",
   "metadata": {},
   "outputs": [
    {
     "name": "stdout",
     "output_type": "stream",
     "text": [
      "Shape of X [N, C, H, W]: torch.Size([64, 1, 28, 28])\n",
      "Shape of y: torch.Size([64]) torch.int64\n"
     ]
    }
   ],
   "source": [
    "batch_size = 64\n",
    "\n",
    "# Create data loaders.\n",
    "train_dataloader = DataLoader(training_data, batch_size=batch_size)\n",
    "test_dataloader = DataLoader(test_data, batch_size=batch_size)\n",
    "\n",
    "for X, y in test_dataloader:\n",
    "    print(f\"Shape of X [N, C, H, W]: {X.shape}\")\n",
    "    print(f\"Shape of y: {y.shape} {y.dtype}\")\n",
    "    break"
   ]
  },
  {
   "cell_type": "code",
   "execution_count": 4,
   "id": "4397af7d",
   "metadata": {},
   "outputs": [
    {
     "name": "stdout",
     "output_type": "stream",
     "text": [
      "Using cpu device\n",
      "NeuralNetwork(\n",
      "  (flatten): Flatten(start_dim=1, end_dim=-1)\n",
      "  (linear_relu_stack): Sequential(\n",
      "    (0): Linear(in_features=784, out_features=512, bias=True)\n",
      "    (1): ReLU()\n",
      "    (2): Linear(in_features=512, out_features=512, bias=True)\n",
      "    (3): ReLU()\n",
      "    (4): Linear(in_features=512, out_features=10, bias=True)\n",
      "  )\n",
      ")\n"
     ]
    }
   ],
   "source": [
    "device = torch.accelerator.current_accelerator().type if torch.accelerator.is_available() else \"cpu\"\n",
    "print(f\"Using {device} device\")\n",
    "\n",
    "# Define model\n",
    "class NeuralNetwork(nn.Module):\n",
    "    def __init__(self):\n",
    "        super().__init__()\n",
    "        self.flatten = nn.Flatten()\n",
    "        self.linear_relu_stack = nn.Sequential(\n",
    "            nn.Linear(28*28, 512),\n",
    "            nn.ReLU(),\n",
    "            nn.Linear(512, 512),\n",
    "            nn.ReLU(),\n",
    "            nn.Linear(512, 10)\n",
    "        )\n",
    "\n",
    "    def forward(self, x):\n",
    "        x = self.flatten(x)\n",
    "        logits = self.linear_relu_stack(x)\n",
    "        return logits\n",
    "\n",
    "model = NeuralNetwork().to(device)\n",
    "print(model)"
   ]
  },
  {
   "cell_type": "code",
   "execution_count": 5,
   "id": "e35ffea5",
   "metadata": {},
   "outputs": [],
   "source": [
    "loss_fn = nn.CrossEntropyLoss()\n",
    "optimizer = torch.optim.SGD(model.parameters(), lr=1e-3)"
   ]
  },
  {
   "cell_type": "code",
   "execution_count": 8,
   "id": "bcf02c88",
   "metadata": {},
   "outputs": [],
   "source": [
    "def train(dataloader, model, loss_fn, optimizer):\n",
    "    size = len(dataloader.dataset)\n",
    "    model.train()\n",
    "    for batch, (X, y) in enumerate(dataloader):\n",
    "        X, y = X.to(device), y.to(device)\n",
    "\n",
    "        # Compute prediction error\n",
    "        pred = model(X)\n",
    "        loss = loss_fn(pred, y)\n",
    "\n",
    "        # Backpropagation\n",
    "        loss.backward()\n",
    "        optimizer.step()\n",
    "        optimizer.zero_grad()\n",
    "\n",
    "        if batch % 100 == 0:\n",
    "            loss, current = loss.item(), (batch + 1) * len(X)\n",
    "            print(f\"loss: {loss:>7f}  [{current:>5d}/{size:>5d}]\")"
   ]
  },
  {
   "cell_type": "code",
   "execution_count": 6,
   "id": "74555456",
   "metadata": {},
   "outputs": [],
   "source": [
    "def test(dataloader, model, loss_fn):\n",
    "    size = len(dataloader.dataset)\n",
    "    num_batches = len(dataloader)\n",
    "    model.eval()\n",
    "    test_loss, correct = 0, 0\n",
    "    with torch.no_grad():\n",
    "        for X, y in dataloader:\n",
    "            X, y = X.to(device), y.to(device)\n",
    "            pred = model(X)\n",
    "            test_loss += loss_fn(pred, y).item()\n",
    "            correct += (pred.argmax(1) == y).type(torch.float).sum().item()\n",
    "    test_loss /= num_batches\n",
    "    correct /= size\n",
    "    print(f\"Test Error: \\n Accuracy: {(100*correct):>0.1f}%, Avg loss: {test_loss:>8f} \\n\")"
   ]
  },
  {
   "cell_type": "code",
   "execution_count": 9,
   "id": "59cb665f",
   "metadata": {},
   "outputs": [
    {
     "name": "stdout",
     "output_type": "stream",
     "text": [
      "Epoch 1\n",
      "-------------------------------\n",
      "loss: 2.307355  [   64/60000]\n",
      "loss: 2.296144  [ 6464/60000]\n",
      "loss: 2.277669  [12864/60000]\n",
      "loss: 2.270395  [19264/60000]\n",
      "loss: 2.250385  [25664/60000]\n",
      "loss: 2.217356  [32064/60000]\n",
      "loss: 2.231663  [38464/60000]\n",
      "loss: 2.203626  [44864/60000]\n",
      "loss: 2.205225  [51264/60000]\n",
      "loss: 2.168824  [57664/60000]\n",
      "Test Error: \n",
      " Accuracy: 39.4%, Avg loss: 2.165372 \n",
      "\n",
      "Epoch 2\n",
      "-------------------------------\n",
      "loss: 2.180564  [   64/60000]\n",
      "loss: 2.167672  [ 6464/60000]\n",
      "loss: 2.115611  [12864/60000]\n",
      "loss: 2.129547  [19264/60000]\n",
      "loss: 2.076755  [25664/60000]\n",
      "loss: 2.016675  [32064/60000]\n",
      "loss: 2.051240  [38464/60000]\n",
      "loss: 1.981202  [44864/60000]\n",
      "loss: 1.989223  [51264/60000]\n",
      "loss: 1.918650  [57664/60000]\n",
      "Test Error: \n",
      " Accuracy: 53.4%, Avg loss: 1.913553 \n",
      "\n",
      "Epoch 3\n",
      "-------------------------------\n",
      "loss: 1.948591  [   64/60000]\n",
      "loss: 1.909804  [ 6464/60000]\n",
      "loss: 1.805176  [12864/60000]\n",
      "loss: 1.846561  [19264/60000]\n",
      "loss: 1.737008  [25664/60000]\n",
      "loss: 1.686277  [32064/60000]\n",
      "loss: 1.720055  [38464/60000]\n",
      "loss: 1.631482  [44864/60000]\n",
      "loss: 1.654702  [51264/60000]\n",
      "loss: 1.557306  [57664/60000]\n",
      "Test Error: \n",
      " Accuracy: 60.3%, Avg loss: 1.566750 \n",
      "\n",
      "Epoch 4\n",
      "-------------------------------\n",
      "loss: 1.633390  [   64/60000]\n",
      "loss: 1.587851  [ 6464/60000]\n",
      "loss: 1.455204  [12864/60000]\n",
      "loss: 1.520212  [19264/60000]\n",
      "loss: 1.404003  [25664/60000]\n",
      "loss: 1.395662  [32064/60000]\n",
      "loss: 1.412187  [38464/60000]\n",
      "loss: 1.352733  [44864/60000]\n",
      "loss: 1.377143  [51264/60000]\n",
      "loss: 1.281015  [57664/60000]\n",
      "Test Error: \n",
      " Accuracy: 63.5%, Avg loss: 1.301277 \n",
      "\n",
      "Epoch 5\n",
      "-------------------------------\n",
      "loss: 1.378254  [   64/60000]\n",
      "loss: 1.349831  [ 6464/60000]\n",
      "loss: 1.199963  [12864/60000]\n",
      "loss: 1.294167  [19264/60000]\n",
      "loss: 1.171171  [25664/60000]\n",
      "loss: 1.192814  [32064/60000]\n",
      "loss: 1.206847  [38464/60000]\n",
      "loss: 1.165676  [44864/60000]\n",
      "loss: 1.193060  [51264/60000]\n",
      "loss: 1.106453  [57664/60000]\n",
      "Test Error: \n",
      " Accuracy: 64.8%, Avg loss: 1.125033 \n",
      "\n",
      "Done!\n"
     ]
    }
   ],
   "source": [
    "epochs = 5\n",
    "for t in range(epochs):\n",
    "    print(f\"Epoch {t+1}\\n-------------------------------\")\n",
    "    train(train_dataloader, model, loss_fn, optimizer)\n",
    "    test(test_dataloader, model, loss_fn)\n",
    "print(\"Done!\")"
   ]
  },
  {
   "cell_type": "code",
   "execution_count": null,
   "id": "7e03c0da",
   "metadata": {},
   "outputs": [
    {
     "ename": "NameError",
     "evalue": "name 'BlinkNet' is not defined",
     "output_type": "error",
     "traceback": [
      "\u001b[31m---------------------------------------------------------------------------\u001b[39m",
      "\u001b[31mNameError\u001b[39m                                 Traceback (most recent call last)",
      "\u001b[36mCell\u001b[39m\u001b[36m \u001b[39m\u001b[32mIn[2]\u001b[39m\u001b[32m, line 3\u001b[39m\n\u001b[32m      1\u001b[39m \u001b[38;5;28;01mimport\u001b[39;00m\u001b[38;5;250m \u001b[39m\u001b[34;01mtorch\u001b[39;00m\n\u001b[32m----> \u001b[39m\u001b[32m3\u001b[39m model = \u001b[43mBlinkNet\u001b[49m()\n\u001b[32m      4\u001b[39m model.load_state_dict(torch.load(\u001b[33m\"\u001b[39m\u001b[33mblink_model.pth\u001b[39m\u001b[33m\"\u001b[39m))\n\u001b[32m      5\u001b[39m model.eval()\n",
      "\u001b[31mNameError\u001b[39m: name 'BlinkNet' is not defined"
     ]
    }
   ],
   "source": []
  }
 ],
 "metadata": {
  "kernelspec": {
   "display_name": "Python 3",
   "language": "python",
   "name": "python3"
  },
  "language_info": {
   "codemirror_mode": {
    "name": "ipython",
    "version": 3
   },
   "file_extension": ".py",
   "mimetype": "text/x-python",
   "name": "python",
   "nbconvert_exporter": "python",
   "pygments_lexer": "ipython3",
   "version": "3.11.9"
  }
 },
 "nbformat": 4,
 "nbformat_minor": 5
}
